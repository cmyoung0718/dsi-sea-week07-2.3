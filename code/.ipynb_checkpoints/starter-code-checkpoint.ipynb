{
 "cells": [
  {
   "cell_type": "code",
   "execution_count": 35,
   "metadata": {
    "collapsed": true
   },
   "outputs": [],
   "source": [
    "import pandas as pd\n",
    "import numpy as np\n",
    "import os\n",
    "from matplotlib import pyplot as plt\n",
    "import numpy as np\n",
    "import math\n",
    "from sklearn.preprocessing import StandardScaler\n",
    "from sklearn.decomposition import PCA \n",
    "%matplotlib inline"
   ]
  },
  {
   "cell_type": "markdown",
   "metadata": {},
   "source": [
    "# Case #1: Congressional Voting Data"
   ]
  },
  {
   "cell_type": "markdown",
   "metadata": {},
   "source": [
    "After you've downloaded the data from the repository, go ahead and load it with Pandas"
   ]
  },
  {
   "cell_type": "code",
   "execution_count": 3,
   "metadata": {
    "collapsed": false
   },
   "outputs": [],
   "source": [
    "df = pd.read_csv('./../assets/datasets/votes.csv')"
   ]
  },
  {
   "cell_type": "code",
   "execution_count": 6,
   "metadata": {
    "collapsed": false
   },
   "outputs": [
    {
     "data": {
      "text/html": [
       "<div>\n",
       "<table border=\"1\" class=\"dataframe\">\n",
       "  <thead>\n",
       "    <tr style=\"text-align: right;\">\n",
       "      <th></th>\n",
       "      <th>Unnamed: 0</th>\n",
       "      <th>Class</th>\n",
       "      <th>V1</th>\n",
       "      <th>V2</th>\n",
       "      <th>V3</th>\n",
       "      <th>V4</th>\n",
       "      <th>V5</th>\n",
       "      <th>V6</th>\n",
       "      <th>V7</th>\n",
       "      <th>V8</th>\n",
       "      <th>V9</th>\n",
       "      <th>V10</th>\n",
       "      <th>V11</th>\n",
       "      <th>V12</th>\n",
       "      <th>V13</th>\n",
       "      <th>V14</th>\n",
       "      <th>V15</th>\n",
       "      <th>V16</th>\n",
       "    </tr>\n",
       "  </thead>\n",
       "  <tbody>\n",
       "    <tr>\n",
       "      <th>0</th>\n",
       "      <td>1</td>\n",
       "      <td>republican</td>\n",
       "      <td>n</td>\n",
       "      <td>y</td>\n",
       "      <td>n</td>\n",
       "      <td>y</td>\n",
       "      <td>y</td>\n",
       "      <td>y</td>\n",
       "      <td>n</td>\n",
       "      <td>n</td>\n",
       "      <td>n</td>\n",
       "      <td>y</td>\n",
       "      <td>NaN</td>\n",
       "      <td>y</td>\n",
       "      <td>y</td>\n",
       "      <td>y</td>\n",
       "      <td>n</td>\n",
       "      <td>y</td>\n",
       "    </tr>\n",
       "    <tr>\n",
       "      <th>1</th>\n",
       "      <td>2</td>\n",
       "      <td>republican</td>\n",
       "      <td>n</td>\n",
       "      <td>y</td>\n",
       "      <td>n</td>\n",
       "      <td>y</td>\n",
       "      <td>y</td>\n",
       "      <td>y</td>\n",
       "      <td>n</td>\n",
       "      <td>n</td>\n",
       "      <td>n</td>\n",
       "      <td>n</td>\n",
       "      <td>n</td>\n",
       "      <td>y</td>\n",
       "      <td>y</td>\n",
       "      <td>y</td>\n",
       "      <td>n</td>\n",
       "      <td>NaN</td>\n",
       "    </tr>\n",
       "    <tr>\n",
       "      <th>2</th>\n",
       "      <td>3</td>\n",
       "      <td>democrat</td>\n",
       "      <td>NaN</td>\n",
       "      <td>y</td>\n",
       "      <td>y</td>\n",
       "      <td>NaN</td>\n",
       "      <td>y</td>\n",
       "      <td>y</td>\n",
       "      <td>n</td>\n",
       "      <td>n</td>\n",
       "      <td>n</td>\n",
       "      <td>n</td>\n",
       "      <td>y</td>\n",
       "      <td>n</td>\n",
       "      <td>y</td>\n",
       "      <td>y</td>\n",
       "      <td>n</td>\n",
       "      <td>n</td>\n",
       "    </tr>\n",
       "    <tr>\n",
       "      <th>3</th>\n",
       "      <td>4</td>\n",
       "      <td>democrat</td>\n",
       "      <td>n</td>\n",
       "      <td>y</td>\n",
       "      <td>y</td>\n",
       "      <td>n</td>\n",
       "      <td>NaN</td>\n",
       "      <td>y</td>\n",
       "      <td>n</td>\n",
       "      <td>n</td>\n",
       "      <td>n</td>\n",
       "      <td>n</td>\n",
       "      <td>y</td>\n",
       "      <td>n</td>\n",
       "      <td>y</td>\n",
       "      <td>n</td>\n",
       "      <td>n</td>\n",
       "      <td>y</td>\n",
       "    </tr>\n",
       "    <tr>\n",
       "      <th>4</th>\n",
       "      <td>5</td>\n",
       "      <td>democrat</td>\n",
       "      <td>y</td>\n",
       "      <td>y</td>\n",
       "      <td>y</td>\n",
       "      <td>n</td>\n",
       "      <td>y</td>\n",
       "      <td>y</td>\n",
       "      <td>n</td>\n",
       "      <td>n</td>\n",
       "      <td>n</td>\n",
       "      <td>n</td>\n",
       "      <td>y</td>\n",
       "      <td>NaN</td>\n",
       "      <td>y</td>\n",
       "      <td>y</td>\n",
       "      <td>y</td>\n",
       "      <td>y</td>\n",
       "    </tr>\n",
       "  </tbody>\n",
       "</table>\n",
       "</div>"
      ],
      "text/plain": [
       "   Unnamed: 0       Class   V1 V2 V3   V4   V5 V6 V7 V8 V9 V10  V11  V12 V13  \\\n",
       "0           1  republican    n  y  n    y    y  y  n  n  n   y  NaN    y   y   \n",
       "1           2  republican    n  y  n    y    y  y  n  n  n   n    n    y   y   \n",
       "2           3    democrat  NaN  y  y  NaN    y  y  n  n  n   n    y    n   y   \n",
       "3           4    democrat    n  y  y    n  NaN  y  n  n  n   n    y    n   y   \n",
       "4           5    democrat    y  y  y    n    y  y  n  n  n   n    y  NaN   y   \n",
       "\n",
       "  V14 V15  V16  \n",
       "0   y   n    y  \n",
       "1   y   n  NaN  \n",
       "2   y   n    n  \n",
       "3   n   n    y  \n",
       "4   y   y    y  "
      ]
     },
     "execution_count": 6,
     "metadata": {},
     "output_type": "execute_result"
    }
   ],
   "source": [
    "df.head()"
   ]
  },
  {
   "cell_type": "markdown",
   "metadata": {},
   "source": [
    "Next, let's define the x and y variables: "
   ]
  },
  {
   "cell_type": "code",
   "execution_count": 7,
   "metadata": {
    "collapsed": false
   },
   "outputs": [],
   "source": [
    "df.drop('Unnamed: 0', axis=1, inplace=True)"
   ]
  },
  {
   "cell_type": "code",
   "execution_count": 8,
   "metadata": {
    "collapsed": true
   },
   "outputs": [],
   "source": [
    "X = df.drop('Class', axis=1)"
   ]
  },
  {
   "cell_type": "code",
   "execution_count": 12,
   "metadata": {
    "collapsed": false
   },
   "outputs": [],
   "source": [
    "X = (X.values == 'y').astype(int)"
   ]
  },
  {
   "cell_type": "code",
   "execution_count": 9,
   "metadata": {
    "collapsed": true
   },
   "outputs": [],
   "source": [
    "y = df['Class']"
   ]
  },
  {
   "cell_type": "markdown",
   "metadata": {},
   "source": [
    "Next, create the covariance matrix from the standardized x-values and decompose these values to find the eigenvalues and eigenvectors"
   ]
  },
  {
   "cell_type": "code",
   "execution_count": 16,
   "metadata": {
    "collapsed": false
   },
   "outputs": [],
   "source": [
    "scaler = StandardScaler()\n",
    "X_scld = scaler.fit_transform(X)\n",
    "cov_mat = np.cov(X_scld.T)"
   ]
  },
  {
   "cell_type": "code",
   "execution_count": 17,
   "metadata": {
    "collapsed": false
   },
   "outputs": [],
   "source": [
    "eigenValues, eigenVectors = np.linalg.eig(cov_mat)"
   ]
  },
  {
   "cell_type": "markdown",
   "metadata": {},
   "source": [
    "Now, let's check the eigenvalues: "
   ]
  },
  {
   "cell_type": "code",
   "execution_count": 18,
   "metadata": {
    "collapsed": false
   },
   "outputs": [
    {
     "name": "stdout",
     "output_type": "stream",
     "text": [
      "[ 7.102243    1.44867882  1.1998064   0.88126251  0.8248454   0.7380054\n",
      "  0.14086407  0.21188391  0.61036665  0.27622346  0.31858994  0.35967328\n",
      "  0.41340487  0.54030753  0.51431461  0.45639653]\n"
     ]
    }
   ],
   "source": [
    "print eigenValues"
   ]
  },
  {
   "cell_type": "markdown",
   "metadata": {},
   "source": [
    "And the eigenvectors: "
   ]
  },
  {
   "cell_type": "code",
   "execution_count": 19,
   "metadata": {
    "collapsed": false
   },
   "outputs": [
    {
     "name": "stdout",
     "output_type": "stream",
     "text": [
      "[[-0.18803934 -0.19357121  0.07328808  0.51751543  0.35845006  0.62089874\n",
      "  -0.05713493 -0.00747574  0.15602045 -0.03613906 -0.07010134 -0.20296072\n",
      "   0.12290505  0.07348099  0.20525446 -0.04760145]\n",
      " [ 0.05231849 -0.5860793  -0.23045319  0.37516036  0.12646973 -0.55398342\n",
      "   0.01855198 -0.10910015  0.10486865  0.0799821   0.0801356  -0.13259865\n",
      "  -0.06581724  0.07925709 -0.00808044  0.26963501]\n",
      " [-0.29660826 -0.08013044 -0.16884543 -0.01308925  0.10990706  0.03068335\n",
      "  -0.2133564  -0.06665988 -0.17958811 -0.23883742  0.56681358  0.45295072\n",
      "   0.08181081 -0.3596669   0.23464645  0.08418781]\n",
      " [ 0.31510691  0.1422561   0.07340739  0.13936979 -0.00770719 -0.05450439\n",
      "  -0.39727071  0.4526401   0.17904898 -0.55964437  0.01205996  0.0780124\n",
      "  -0.11191782  0.25270932  0.01034961  0.24886662]\n",
      " [ 0.33401889 -0.0385968  -0.02237429  0.09559165 -0.01349543  0.13452608\n",
      "   0.76511773 -0.07320061  0.17191793 -0.32328863  0.03152091  0.26761767\n",
      "  -0.17093715 -0.13088875  0.11234843  0.05101759]\n",
      " [ 0.26716267 -0.07972083 -0.25992991 -0.19341153  0.03386373  0.03842238\n",
      "  -0.07856633  0.01950334 -0.31205465 -0.18250948 -0.37816447 -0.3496993\n",
      "   0.1915876  -0.44154008  0.37379665  0.20186102]\n",
      " [-0.29182075  0.19643052 -0.04588376  0.09917934  0.00585422 -0.01333985\n",
      "  -0.02286656 -0.27081755 -0.13634586  0.05344028 -0.51147706  0.42817513\n",
      "  -0.13996501  0.23355998  0.16912358  0.47021755]\n",
      " [-0.32681104  0.0725546  -0.07536811  0.00111245  0.08663186 -0.07794592\n",
      "   0.39578094  0.73144287 -0.23223146  0.17757482  0.07836788 -0.07319843\n",
      "   0.12111501  0.11381175  0.10993021  0.20086437]\n",
      " [-0.29287877  0.18058669 -0.00924878  0.03611105  0.01701353 -0.17373675\n",
      "   0.15624907 -0.28123287 -0.34831872 -0.50427207  0.13000295 -0.41876627\n",
      "  -0.17583247  0.31855412  0.09648134 -0.1914593 ]\n",
      " [ 0.01359228  0.37071451 -0.57391342 -0.15274865  0.60726484 -0.0858061\n",
      "   0.01674202 -0.04673526  0.31069277  0.0048658  -0.02398412 -0.01148239\n",
      "   0.03878859  0.03544397 -0.15575929 -0.08244357]\n",
      " [-0.07112483 -0.4880378  -0.44655414 -0.38257418 -0.2003779   0.38145471\n",
      "  -0.01032933  0.05008511 -0.06897903 -0.14494611 -0.04193094  0.08099002\n",
      "  -0.04240787  0.37112324 -0.22157141 -0.0016436 ]\n",
      " [ 0.28929338  0.15955659  0.01496153 -0.04203207 -0.07669119  0.06817755\n",
      "   0.07946873 -0.26127784 -0.03239667  0.10602841  0.33002518 -0.05724727\n",
      "   0.6390797   0.39062137  0.10896117  0.32616483]\n",
      " [ 0.27553751 -0.06114016 -0.14476793  0.12948346  0.04813455 -0.14713108\n",
      "  -0.06865143  0.10365127 -0.22486428  0.14032207 -0.11204054  0.32483382\n",
      "   0.06428168  0.30238212  0.46090533 -0.58895758]\n",
      " [ 0.28769832  0.14238328 -0.13711492  0.00581328  0.03355151  0.24352607\n",
      "  -0.08900957 -0.0304292  -0.19874087  0.37634747  0.33552707 -0.1694557\n",
      "  -0.63338072  0.07327798  0.17909653  0.2186269 ]\n",
      " [-0.24744034 -0.0173265  -0.01321806 -0.29871419 -0.2442241  -0.07884425\n",
      "  -0.01302678 -0.00362204  0.61764899  0.03636348  0.04670851 -0.15415021\n",
      "  -0.0844283   0.07268007  0.60154166  0.00202327]\n",
      " [-0.07138452  0.28757258 -0.51258496  0.48647494 -0.59693453  0.05455208\n",
      "  -0.01953834  0.02986224  0.07535585  0.02494754  0.00497602 -0.06360254\n",
      "   0.0780074  -0.14271012 -0.0933167  -0.08182005]]\n"
     ]
    }
   ],
   "source": [
    "print eigenVectors"
   ]
  },
  {
   "cell_type": "markdown",
   "metadata": {},
   "source": [
    "To find the principal componants, find the eigenpairs, and sort them from highest to lowest. "
   ]
  },
  {
   "cell_type": "code",
   "execution_count": 49,
   "metadata": {
    "collapsed": false
   },
   "outputs": [
    {
     "name": "stdout",
     "output_type": "stream",
     "text": [
      "7.10224299609\n",
      "1.44867881863\n",
      "1.19980639643\n",
      "0.881262509772\n",
      "0.824845400306\n",
      "0.738005397126\n",
      "0.610366646038\n",
      "0.540307526332\n",
      "0.5143146149\n",
      "0.456396531035\n",
      "0.413404865073\n",
      "0.359673279653\n",
      "0.31858993662\n",
      "0.276223460272\n",
      "0.211883908313\n",
      "0.140864072849\n"
     ]
    }
   ],
   "source": [
    "eigenPairs = [(np.abs(eigenValues[i]), eigenVectors[:,i]) for i in range(len(eigenValues))]\n",
    "eigenPairs.sort()\n",
    "eigenPairs.reverse()\n",
    "for i in eigenPairs:\n",
    "    print i[0]"
   ]
  },
  {
   "cell_type": "markdown",
   "metadata": {
    "collapsed": true
   },
   "source": [
    "Now, calculate the explained variance. Recall the methods we learned in lesson 2.2!"
   ]
  },
  {
   "cell_type": "code",
   "execution_count": 23,
   "metadata": {
    "collapsed": false
   },
   "outputs": [],
   "source": [
    "totalEigen = sum(eigenValues)\n",
    "varExpl = [(i / totalEigen)*100 for i in sorted(eigenValues, reverse=True)]\n"
   ]
  },
  {
   "cell_type": "markdown",
   "metadata": {},
   "source": [
    "Now, calculate the explained variance and the Cumulative explained variance"
   ]
  },
  {
   "cell_type": "code",
   "execution_count": 24,
   "metadata": {
    "collapsed": true
   },
   "outputs": [],
   "source": [
    "cumulativevarExpl = np.cumsum(varExpl)"
   ]
  },
  {
   "cell_type": "code",
   "execution_count": 30,
   "metadata": {
    "collapsed": false
   },
   "outputs": [
    {
     "data": {
      "text/plain": [
       "array([  44.286975  ,   53.32040327,   60.80195465,   66.29718352,\n",
       "         71.44061604,   76.04254625,   79.84856815,   83.21772715,\n",
       "         86.42480392,   89.27072481,   91.8485655 ,   94.09135577,\n",
       "         96.07796544,   97.80039334,   99.12162345,  100.        ])"
      ]
     },
     "execution_count": 30,
     "metadata": {},
     "output_type": "execute_result"
    }
   ],
   "source": [
    "cumulativevarExpl"
   ]
  },
  {
   "cell_type": "code",
   "execution_count": 36,
   "metadata": {
    "collapsed": false
   },
   "outputs": [
    {
     "data": {
      "image/png": "[encoded data removed]",
      "text/plain": [
       "<matplotlib.figure.Figure at 0x103dc4f10>"
      ]
     },
     "metadata": {},
     "output_type": "display_data"
    }
   ],
   "source": [
    "plt.plot(cumulativevarExpl)\n",
    "plt.show()"
   ]
  },
  {
   "cell_type": "markdown",
   "metadata": {},
   "source": [
    "Now, conduct the PCA using scikit learn"
   ]
  },
  {
   "cell_type": "code",
   "execution_count": 44,
   "metadata": {
    "collapsed": false
   },
   "outputs": [],
   "source": [
    "PCA_sk = PCA(n_components=16)\n",
    "Y_sk = PCA_sk.fit_transform(X_scld)"
   ]
  },
  {
   "cell_type": "code",
   "execution_count": 45,
   "metadata": {
    "collapsed": false
   },
   "outputs": [
    {
     "data": {
      "image/png": "[encoded data removed]",
      "text/plain": [
       "<matplotlib.figure.Figure at 0x11c89d090>"
      ]
     },
     "metadata": {},
     "output_type": "display_data"
    }
   ],
   "source": [
    "plt.plot(np.cumsum(PCA_sk.explained_variance_ratio_))\n",
    "plt.show()"
   ]
  },
  {
   "cell_type": "code",
   "execution_count": 39,
   "metadata": {
    "collapsed": false
   },
   "outputs": [
    {
     "data": {
      "text/html": [
       "<div>\n",
       "<table border=\"1\" class=\"dataframe\">\n",
       "  <thead>\n",
       "    <tr style=\"text-align: right;\">\n",
       "      <th></th>\n",
       "      <th>0</th>\n",
       "      <th>1</th>\n",
       "      <th>2</th>\n",
       "      <th>3</th>\n",
       "      <th>4</th>\n",
       "      <th>5</th>\n",
       "      <th>6</th>\n",
       "      <th>7</th>\n",
       "    </tr>\n",
       "  </thead>\n",
       "  <tbody>\n",
       "    <tr>\n",
       "      <th>0</th>\n",
       "      <td>3.575171</td>\n",
       "      <td>-0.438298</td>\n",
       "      <td>-1.008702</td>\n",
       "      <td>-0.790923</td>\n",
       "      <td>0.054063</td>\n",
       "      <td>-0.933184</td>\n",
       "      <td>0.557134</td>\n",
       "      <td>-0.046773</td>\n",
       "    </tr>\n",
       "    <tr>\n",
       "      <th>1</th>\n",
       "      <td>3.694934</td>\n",
       "      <td>0.895128</td>\n",
       "      <td>1.194329</td>\n",
       "      <td>-0.095000</td>\n",
       "      <td>0.068318</td>\n",
       "      <td>-0.873865</td>\n",
       "      <td>-0.219390</td>\n",
       "      <td>-0.269658</td>\n",
       "    </tr>\n",
       "    <tr>\n",
       "      <th>2</th>\n",
       "      <td>1.710303</td>\n",
       "      <td>2.700584</td>\n",
       "      <td>-0.267509</td>\n",
       "      <td>0.934073</td>\n",
       "      <td>0.042250</td>\n",
       "      <td>-0.037762</td>\n",
       "      <td>-1.026717</td>\n",
       "      <td>0.992803</td>\n",
       "    </tr>\n",
       "    <tr>\n",
       "      <th>3</th>\n",
       "      <td>0.313965</td>\n",
       "      <td>2.318995</td>\n",
       "      <td>-1.000955</td>\n",
       "      <td>0.135632</td>\n",
       "      <td>-1.227336</td>\n",
       "      <td>-0.686516</td>\n",
       "      <td>-0.814091</td>\n",
       "      <td>1.172734</td>\n",
       "    </tr>\n",
       "    <tr>\n",
       "      <th>4</th>\n",
       "      <td>0.678438</td>\n",
       "      <td>2.534978</td>\n",
       "      <td>-1.201627</td>\n",
       "      <td>-0.502967</td>\n",
       "      <td>-0.961029</td>\n",
       "      <td>1.167785</td>\n",
       "      <td>0.704332</td>\n",
       "      <td>0.989791</td>\n",
       "    </tr>\n",
       "  </tbody>\n",
       "</table>\n",
       "</div>"
      ],
      "text/plain": [
       "          0         1         2         3         4         5         6  \\\n",
       "0  3.575171 -0.438298 -1.008702 -0.790923  0.054063 -0.933184  0.557134   \n",
       "1  3.694934  0.895128  1.194329 -0.095000  0.068318 -0.873865 -0.219390   \n",
       "2  1.710303  2.700584 -0.267509  0.934073  0.042250 -0.037762 -1.026717   \n",
       "3  0.313965  2.318995 -1.000955  0.135632 -1.227336 -0.686516 -0.814091   \n",
       "4  0.678438  2.534978 -1.201627 -0.502967 -0.961029  1.167785  0.704332   \n",
       "\n",
       "          7  \n",
       "0 -0.046773  \n",
       "1 -0.269658  \n",
       "2  0.992803  \n",
       "3  1.172734  \n",
       "4  0.989791  "
      ]
     },
     "execution_count": 39,
     "metadata": {},
     "output_type": "execute_result"
    }
   ],
   "source": [
    "pd.DataFrame(Y_sk).head()"
   ]
  },
  {
   "cell_type": "markdown",
   "metadata": {},
   "source": [
    "# Case #2: Airport Delays"
   ]
  },
  {
   "cell_type": "code",
   "execution_count": 5,
   "metadata": {
    "collapsed": true
   },
   "outputs": [],
   "source": [
    "df2 = pd.read_csv('./../assets/datasets/airport_operations.csv')"
   ]
  },
  {
   "cell_type": "markdown",
   "metadata": {},
   "source": [
    "First, let's define the x and y variables: Airport is going to be our \"x\" variable"
   ]
  },
  {
   "cell_type": "code",
   "execution_count": 33,
   "metadata": {
    "collapsed": false
   },
   "outputs": [
    {
     "data": {
      "text/html": [
       "<div>\n",
       "<table border=\"1\" class=\"dataframe\">\n",
       "  <thead>\n",
       "    <tr style=\"text-align: right;\">\n",
       "      <th></th>\n",
       "      <th>airport</th>\n",
       "      <th>year</th>\n",
       "      <th>departures for metric computation</th>\n",
       "      <th>arrivals for metric computation</th>\n",
       "      <th>percent on-time gate departures</th>\n",
       "      <th>percent on-time airport departures</th>\n",
       "      <th>percent on-time gate arrivals</th>\n",
       "      <th>average_gate_departure_delay</th>\n",
       "      <th>average_taxi_out_time</th>\n",
       "      <th>average taxi out delay</th>\n",
       "      <th>average airport departure delay</th>\n",
       "      <th>average airborne delay</th>\n",
       "      <th>average taxi in delay</th>\n",
       "      <th>average block delay</th>\n",
       "      <th>average gate arrival delay</th>\n",
       "    </tr>\n",
       "  </thead>\n",
       "  <tbody>\n",
       "    <tr>\n",
       "      <th>0</th>\n",
       "      <td>ABQ</td>\n",
       "      <td>2004</td>\n",
       "      <td>53971</td>\n",
       "      <td>53818</td>\n",
       "      <td>0.8030</td>\n",
       "      <td>0.7809</td>\n",
       "      <td>0.7921</td>\n",
       "      <td>10.38</td>\n",
       "      <td>9.89</td>\n",
       "      <td>2.43</td>\n",
       "      <td>12.10</td>\n",
       "      <td>2.46</td>\n",
       "      <td>0.83</td>\n",
       "      <td>2.55</td>\n",
       "      <td>10.87</td>\n",
       "    </tr>\n",
       "    <tr>\n",
       "      <th>1</th>\n",
       "      <td>ABQ</td>\n",
       "      <td>2005</td>\n",
       "      <td>51829</td>\n",
       "      <td>51877</td>\n",
       "      <td>0.8140</td>\n",
       "      <td>0.7922</td>\n",
       "      <td>0.8001</td>\n",
       "      <td>9.60</td>\n",
       "      <td>9.79</td>\n",
       "      <td>2.29</td>\n",
       "      <td>11.20</td>\n",
       "      <td>2.26</td>\n",
       "      <td>0.89</td>\n",
       "      <td>2.34</td>\n",
       "      <td>10.24</td>\n",
       "    </tr>\n",
       "    <tr>\n",
       "      <th>2</th>\n",
       "      <td>ABQ</td>\n",
       "      <td>2006</td>\n",
       "      <td>49682</td>\n",
       "      <td>51199</td>\n",
       "      <td>0.7983</td>\n",
       "      <td>0.7756</td>\n",
       "      <td>0.7746</td>\n",
       "      <td>10.84</td>\n",
       "      <td>9.89</td>\n",
       "      <td>2.16</td>\n",
       "      <td>12.33</td>\n",
       "      <td>2.12</td>\n",
       "      <td>0.84</td>\n",
       "      <td>2.66</td>\n",
       "      <td>11.82</td>\n",
       "    </tr>\n",
       "    <tr>\n",
       "      <th>3</th>\n",
       "      <td>ABQ</td>\n",
       "      <td>2007</td>\n",
       "      <td>53255</td>\n",
       "      <td>53611</td>\n",
       "      <td>0.8005</td>\n",
       "      <td>0.7704</td>\n",
       "      <td>0.7647</td>\n",
       "      <td>11.29</td>\n",
       "      <td>10.34</td>\n",
       "      <td>2.40</td>\n",
       "      <td>12.95</td>\n",
       "      <td>2.19</td>\n",
       "      <td>1.29</td>\n",
       "      <td>3.06</td>\n",
       "      <td>12.71</td>\n",
       "    </tr>\n",
       "    <tr>\n",
       "      <th>4</th>\n",
       "      <td>ABQ</td>\n",
       "      <td>2008</td>\n",
       "      <td>49589</td>\n",
       "      <td>49512</td>\n",
       "      <td>0.8103</td>\n",
       "      <td>0.7844</td>\n",
       "      <td>0.7875</td>\n",
       "      <td>10.79</td>\n",
       "      <td>10.41</td>\n",
       "      <td>2.41</td>\n",
       "      <td>12.32</td>\n",
       "      <td>1.82</td>\n",
       "      <td>1.03</td>\n",
       "      <td>2.79</td>\n",
       "      <td>11.48</td>\n",
       "    </tr>\n",
       "  </tbody>\n",
       "</table>\n",
       "</div>"
      ],
      "text/plain": [
       "  airport  year  departures for metric computation  \\\n",
       "0     ABQ  2004                              53971   \n",
       "1     ABQ  2005                              51829   \n",
       "2     ABQ  2006                              49682   \n",
       "3     ABQ  2007                              53255   \n",
       "4     ABQ  2008                              49589   \n",
       "\n",
       "   arrivals for metric computation  percent on-time gate departures  \\\n",
       "0                            53818                           0.8030   \n",
       "1                            51877                           0.8140   \n",
       "2                            51199                           0.7983   \n",
       "3                            53611                           0.8005   \n",
       "4                            49512                           0.8103   \n",
       "\n",
       "   percent on-time airport departures  percent on-time gate arrivals  \\\n",
       "0                              0.7809                         0.7921   \n",
       "1                              0.7922                         0.8001   \n",
       "2                              0.7756                         0.7746   \n",
       "3                              0.7704                         0.7647   \n",
       "4                              0.7844                         0.7875   \n",
       "\n",
       "   average_gate_departure_delay  average_taxi_out_time  \\\n",
       "0                         10.38                   9.89   \n",
       "1                          9.60                   9.79   \n",
       "2                         10.84                   9.89   \n",
       "3                         11.29                  10.34   \n",
       "4                         10.79                  10.41   \n",
       "\n",
       "   average taxi out delay  average airport departure delay  \\\n",
       "0                    2.43                            12.10   \n",
       "1                    2.29                            11.20   \n",
       "2                    2.16                            12.33   \n",
       "3                    2.40                            12.95   \n",
       "4                    2.41                            12.32   \n",
       "\n",
       "   average airborne delay  average taxi in delay  average block delay  \\\n",
       "0                    2.46                   0.83                 2.55   \n",
       "1                    2.26                   0.89                 2.34   \n",
       "2                    2.12                   0.84                 2.66   \n",
       "3                    2.19                   1.29                 3.06   \n",
       "4                    1.82                   1.03                 2.79   \n",
       "\n",
       "   average gate arrival delay  \n",
       "0                       10.87  \n",
       "1                       10.24  \n",
       "2                       11.82  \n",
       "3                       12.71  \n",
       "4                       11.48  "
      ]
     },
     "execution_count": 33,
     "metadata": {},
     "output_type": "execute_result"
    }
   ],
   "source": [
    "df2.head()"
   ]
  },
  {
   "cell_type": "code",
   "execution_count": 47,
   "metadata": {
    "collapsed": false
   },
   "outputs": [],
   "source": [
    "X = df2.drop('airport', axis = 1)\n",
    "y = df2['airport']"
   ]
  },
  {
   "cell_type": "markdown",
   "metadata": {},
   "source": [
    "Then, standardize the x variable for analysis"
   ]
  },
  {
   "cell_type": "code",
   "execution_count": 48,
   "metadata": {
    "collapsed": false
   },
   "outputs": [],
   "source": [
    "ss = StandardScaler()\n",
    "X_scld = ss.fit_transform(X)"
   ]
  },
  {
   "cell_type": "markdown",
   "metadata": {},
   "source": [
    "Next, create the covariance matrix from the standardized x-values and decompose these values to find the eigenvalues and eigenvectors"
   ]
  },
  {
   "cell_type": "code",
   "execution_count": 50,
   "metadata": {
    "collapsed": false
   },
   "outputs": [],
   "source": [
    "cov_mat = np.cov(X_scld.T)\n",
    "eigenValues, eigenVectors = np.linalg.eig(cov_mat)"
   ]
  },
  {
   "cell_type": "markdown",
   "metadata": {},
   "source": [
    "Then, check your eigenvalues and eigenvectors:"
   ]
  },
  {
   "cell_type": "code",
   "execution_count": 55,
   "metadata": {
    "collapsed": false
   },
   "outputs": [
    {
     "name": "stdout",
     "output_type": "stream",
     "text": [
      "Eigen Values \n",
      "[  6.45349601e+00   4.30952372e+00   1.21824879e+00   7.37875394e-01\n",
      "   5.10954558e-01   3.49353222e-01   1.66799275e-01   1.20220515e-01\n",
      "   7.32036815e-02   6.41924376e-02   9.59074587e-03   2.34264664e-03\n",
      "   1.64364385e-04   7.01306545e-04] \n",
      "\n",
      "Eigen Vectors \n",
      "[[ -5.74761448e-02   5.25255722e-02   8.08909757e-01  -3.89143377e-01\n",
      "   -1.51724877e-02  -4.04558235e-01  -3.91819608e-02  -1.31976220e-02\n",
      "    1.43760537e-01  -7.77297605e-03  -3.10742763e-02  -2.93369275e-02\n",
      "    2.29607095e-03   1.99299912e-03]\n",
      " [  1.16832935e-01  -4.11909290e-01   1.69808554e-01   4.02576136e-01\n",
      "   -1.22740151e-01  -1.12320737e-01   2.90266529e-01   6.08203611e-02\n",
      "    7.66594323e-02   3.32546414e-02  -2.17851714e-02   2.05754595e-02\n",
      "    7.07995242e-01   3.17127569e-02]\n",
      " [  1.16407898e-01  -4.11581912e-01   1.71084289e-01   4.03871066e-01\n",
      "   -1.25409356e-01  -1.09894006e-01   2.91346645e-01   6.55288643e-02\n",
      "    9.06577905e-02   3.22166405e-02  -3.61597627e-02  -2.65374530e-02\n",
      "   -7.03727342e-01  -3.44394613e-02]\n",
      " [ -3.14555883e-01  -2.53530409e-01  -1.18877111e-01  -2.24560820e-01\n",
      "    1.23690522e-01  -6.82727838e-02   5.43486119e-02   3.26770461e-01\n",
      "    2.36580572e-03   3.29711351e-01  -1.99340182e-01   6.68761985e-01\n",
      "   -3.00470829e-02   2.14306496e-01]\n",
      " [ -3.75128310e-01  -7.87082927e-02  -1.00892441e-01  -1.09184961e-02\n",
      "    1.34624586e-01  -2.11635993e-01   2.71353232e-02   3.73371466e-01\n",
      "   -2.89507680e-01   2.58376655e-01  -2.85057395e-01  -5.96553075e-01\n",
      "    3.09804596e-02  -2.25970874e-01]\n",
      " [ -3.19443455e-01  -2.59618709e-01   1.43727719e-02  -5.59417020e-02\n",
      "   -1.42882198e-01  -2.03389243e-02  -6.59648928e-02  -3.98230252e-01\n",
      "   -2.42904313e-01   4.13858733e-01   6.40097110e-01  -5.69355242e-02\n",
      "   -8.99358009e-03   1.10387939e-02]\n",
      " [  3.39442599e-01   2.12055743e-01   1.46987310e-01   1.20872954e-01\n",
      "   -5.89234990e-02   3.77924286e-02  -2.86145143e-02  -8.27426527e-02\n",
      "   -4.15866940e-01   3.94445886e-01  -2.36861421e-01  -1.02032537e-01\n",
      "   -2.79856211e-02   6.28649445e-01]\n",
      " [  2.03702730e-01  -3.51572489e-01   1.46751930e-02  -4.36498823e-01\n",
      "    3.96132150e-02   1.36938724e-01   3.01642739e-01   2.89659660e-02\n",
      "   -5.93467490e-01  -4.22504550e-01   3.18693499e-02   1.00408035e-02\n",
      "   -5.71394565e-03  -1.19887604e-02]\n",
      " [  1.79213138e-01  -3.65634226e-01  -7.92478827e-02  -4.26860470e-01\n",
      "    1.00639410e-02   3.87947683e-01   2.41455140e-02  -3.62718716e-02\n",
      "    5.05749615e-01   2.38311849e-01  -9.78632616e-02  -3.67192446e-01\n",
      "    9.12623601e-03   1.90091624e-01]\n",
      " [  3.82081055e-01   4.41820602e-02   1.12031061e-01  -7.03720250e-02\n",
      "   -6.31205503e-02   1.88995941e-01  -2.37213477e-02  -1.01458125e-01\n",
      "   -1.39614726e-01   4.61086208e-01  -1.93861767e-01   2.11215442e-01\n",
      "    2.53146003e-02  -6.84887414e-01]\n",
      " [  2.66364317e-01  -1.22585403e-01  -3.37056176e-01  -1.93717938e-01\n",
      "   -6.44939228e-01  -4.85291309e-01  -3.05280131e-01   1.30755926e-01\n",
      "    1.22477890e-02  -2.64920135e-02  -1.46332651e-02  -7.95387587e-03\n",
      "    3.85537802e-04   3.55681431e-03]\n",
      " [  1.17545388e-01  -4.01613903e-01   1.68142010e-01   1.88146374e-01\n",
      "    2.99717488e-01   1.05776711e-01  -7.84997335e-01   1.22805123e-01\n",
      "   -1.17486464e-01  -1.21230458e-01   9.43787182e-03   1.71059638e-02\n",
      "   -2.27526807e-03   3.25634259e-03]\n",
      " [  2.92669002e-01  -9.20439018e-02  -2.82951900e-01  -5.92342132e-02\n",
      "    6.04020068e-01  -5.55131941e-01   9.19556431e-02  -3.58685306e-01\n",
      "    7.70031155e-02   7.80223584e-02  -8.44642887e-03  -7.77251031e-03\n",
      "   -2.35431905e-03  -5.03364899e-03]\n",
      " [  3.50062297e-01   1.76899154e-01   2.12226723e-02  -3.12063009e-02\n",
      "    1.88134533e-01  -2.24535997e-02   1.02275751e-01   6.37912237e-01\n",
      "    4.59143779e-02   1.61467816e-01   6.01565119e-01  -3.58041687e-02\n",
      "   -3.31105069e-03   9.70797339e-03]]\n"
     ]
    }
   ],
   "source": [
    "print 'Eigen Values', '\\n', eigenValues, '\\n'\n",
    "print 'Eigen Vectors', '\\n', eigenVectors"
   ]
  },
  {
   "cell_type": "markdown",
   "metadata": {},
   "source": [
    "To find the principal componants, find the eigenpairs, and sort them from highest to lowest. "
   ]
  },
  {
   "cell_type": "code",
   "execution_count": 56,
   "metadata": {
    "collapsed": false
   },
   "outputs": [
    {
     "name": "stdout",
     "output_type": "stream",
     "text": [
      "6.45349600791\n",
      "4.30952372449\n",
      "1.21824878845\n",
      "0.737875393589\n",
      "0.510954557711\n",
      "0.349353221606\n",
      "0.166799275189\n",
      "0.120220515247\n",
      "0.0732036814776\n",
      "0.0641924375551\n",
      "0.0095907458676\n",
      "0.00234264664452\n",
      "0.000701306545385\n",
      "0.00016436438493\n"
     ]
    }
   ],
   "source": [
    "eigenPairs = [(np.abs(eigenValues[i]), eigenVectors[:,i]) for i in range(len(eigenValues))]\n",
    "eigenPairs.sort()\n",
    "eigenPairs.reverse()\n",
    "for i in eigenPairs:\n",
    "    print i[0]"
   ]
  },
  {
   "cell_type": "markdown",
   "metadata": {},
   "source": [
    "Next, Calculate the explained variance"
   ]
  },
  {
   "cell_type": "code",
   "execution_count": 59,
   "metadata": {
    "collapsed": false
   },
   "outputs": [],
   "source": [
    "totalEigen = sum(eigenValues)\n",
    "varExpl = [(i / totalEigen)*100 for i in sorted(eigenValues, reverse=True)]\n",
    "cumulativevarExpl = np.cumsum(varExpl)"
   ]
  },
  {
   "cell_type": "code",
   "execution_count": 60,
   "metadata": {
    "collapsed": false
   },
   "outputs": [
    {
     "data": {
      "image/png": "[encoded data removed]",
      "text/plain": [
       "<matplotlib.figure.Figure at 0x11cc72250>"
      ]
     },
     "metadata": {},
     "output_type": "display_data"
    }
   ],
   "source": [
    "plt.plot(cumulativevarExpl)\n",
    "plt.show()"
   ]
  },
  {
   "cell_type": "markdown",
   "metadata": {},
   "source": [
    "Finally, conduct the PCA - use the results about to guide your selection of \"n\" componants"
   ]
  },
  {
   "cell_type": "code",
   "execution_count": 61,
   "metadata": {
    "collapsed": false
   },
   "outputs": [],
   "source": [
    "PCA_sk = PCA(n_components=3)\n",
    "Y_sk = PCA_sk.fit_transform(X_scld)"
   ]
  },
  {
   "cell_type": "code",
   "execution_count": 62,
   "metadata": {
    "collapsed": false
   },
   "outputs": [
    {
     "data": {
      "image/png": "[encoded data removed]",
      "text/plain": [
       "<matplotlib.figure.Figure at 0x11ccb8490>"
      ]
     },
     "metadata": {},
     "output_type": "display_data"
    }
   ],
   "source": [
    "plt.plot(np.cumsum(PCA_sk.explained_variance_ratio_))\n",
    "plt.show()"
   ]
  }
 ],
 "metadata": {
  "kernelspec": {
   "display_name": "Python [Root]",
   "language": "python",
   "name": "Python [Root]"
  },
  "language_info": {
   "codemirror_mode": {
    "name": "ipython",
    "version": 2
   },
   "file_extension": ".py",
   "mimetype": "text/x-python",
   "name": "python",
   "nbconvert_exporter": "python",
   "pygments_lexer": "ipython2",
   "version": "2.7.12"
  }
 },
 "nbformat": 4,
 "nbformat_minor": 0
}
